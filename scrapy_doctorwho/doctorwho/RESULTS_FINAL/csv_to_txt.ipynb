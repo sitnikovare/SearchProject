{
 "cells": [
  {
   "cell_type": "markdown",
   "metadata": {},
   "source": [
    "# Переход от csv к txt файлам"
   ]
  },
  {
   "cell_type": "markdown",
   "metadata": {},
   "source": [
    "Функция для получения всех списка csv файлов"
   ]
  },
  {
   "cell_type": "code",
   "execution_count": 33,
   "metadata": {},
   "outputs": [],
   "source": [
    "import os.path\n",
    "# получить дерево каталога файлов\n",
    "def get_catalog_tree_files(catalog_path):\n",
    "    # хранит абсолютные пути до файлов\n",
    "    paths_to_files = []\n",
    "    # обходит заданный калатог\n",
    "    for address, _, files in os.walk(catalog_path):\n",
    "        for name in files:\n",
    "            paths_to_files.append(os.path.join(address, name))\n",
    "    return paths_to_files"
   ]
  },
  {
   "cell_type": "markdown",
   "metadata": {},
   "source": [
    "Функция, которая из одного csv файла построчно создает txt файлы\n",
    "\n",
    "Название - столбец Name, содержимое - все остальные столбцы"
   ]
  },
  {
   "cell_type": "code",
   "execution_count": 34,
   "metadata": {},
   "outputs": [],
   "source": [
    "def csv_to_txts(data):\n",
    "    # получаем названия столбов файла\n",
    "    cols = data.columns\n",
    "    # путь для готовых txt файлов\n",
    "    path = \"D:\\CSIT\\SearchProject\\scrapy_doctorwho\\doctorwho\\RESULTS_FINAL\\TXT_output\"\n",
    "\n",
    "    # идем по строкам данного csv\n",
    "    for i in range(data.shape[0]):\n",
    "        # получаем строку\n",
    "        row = data.loc[i]\n",
    "        # получаем имя текущего файла\n",
    "        new_name = row['Name'].strip()\n",
    "        # добавляем расширение файла\n",
    "        new_name += \".txt\"\n",
    "        # формируем файл\n",
    "        body = \"\"\n",
    "        # собираем все столбцы в одно тело файла\n",
    "        for col in cols:\n",
    "            body += str(row[col]) + '\\n'\n",
    "\n",
    "        # путь для файла\n",
    "        new_file = path + \"\\\\\" + new_name\n",
    "        # записываем тело в txt-файл\n",
    "        with open(new_file, \"w\", encoding=\"UTF8\") as file_out:\n",
    "                file_out.write(body)"
   ]
  },
  {
   "cell_type": "code",
   "execution_count": 35,
   "metadata": {},
   "outputs": [
    {
     "name": "stdout",
     "output_type": "stream",
     "text": [
      "WORKING WITH: D:\\CSIT\\SearchProject\\scrapy_doctorwho\\doctorwho\\RESULTS_FINAL\\CSV_input\\getAllPages_2022-11-05T08-20-27.csv\n",
      "WORKING WITH: D:\\CSIT\\SearchProject\\scrapy_doctorwho\\doctorwho\\RESULTS_FINAL\\CSV_input\\getAllPages_2022-11-05T08-20-51.csv\n",
      "WORKING WITH: D:\\CSIT\\SearchProject\\scrapy_doctorwho\\doctorwho\\RESULTS_FINAL\\CSV_input\\getAllPages_2022-11-05T08-21-14.csv\n"
     ]
    }
   ],
   "source": [
    "import pandas as pd\n",
    "\n",
    "files = get_catalog_tree_files(\"D:\\CSIT\\SearchProject\\scrapy_doctorwho\\doctorwho\\RESULTS_FINAL\\CSV_input\")\n",
    "\n",
    "for file in files:\n",
    "    print(\"WORKING WITH:\", file)\n",
    "    data = pd.read_csv(file)\n",
    "    csv_to_txts(data)"
   ]
  }
 ],
 "metadata": {
  "kernelspec": {
   "display_name": "Python 3.10.7 64-bit",
   "language": "python",
   "name": "python3"
  },
  "language_info": {
   "codemirror_mode": {
    "name": "ipython",
    "version": 3
   },
   "file_extension": ".py",
   "mimetype": "text/x-python",
   "name": "python",
   "nbconvert_exporter": "python",
   "pygments_lexer": "ipython3",
   "version": "3.10.7"
  },
  "orig_nbformat": 4,
  "vscode": {
   "interpreter": {
    "hash": "fe5342c6ab41e3a8c4ad677708f1867fa459309473adeba9b629cdf981cbeabe"
   }
  }
 },
 "nbformat": 4,
 "nbformat_minor": 2
}
