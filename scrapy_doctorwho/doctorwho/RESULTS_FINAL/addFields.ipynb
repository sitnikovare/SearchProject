{
 "cells": [
  {
   "cell_type": "markdown",
   "metadata": {},
   "source": [
    "# Добавление полей к документам"
   ]
  },
  {
   "cell_type": "markdown",
   "metadata": {},
   "source": [
    "В папке TXT_output лежат файлы без полей. В этом нотубуке создается CSV-файл со следующими колонками:\n",
    "\n",
    "название файла | доктор | спутники | враги"
   ]
  },
  {
   "cell_type": "markdown",
   "metadata": {},
   "source": [
    "## Библиотеки:"
   ]
  },
  {
   "cell_type": "code",
   "execution_count": 88,
   "metadata": {},
   "outputs": [],
   "source": [
    "import os\n",
    "import pandas as pd"
   ]
  },
  {
   "cell_type": "markdown",
   "metadata": {},
   "source": [
    "## Пути:"
   ]
  },
  {
   "cell_type": "code",
   "execution_count": 89,
   "metadata": {},
   "outputs": [],
   "source": [
    "PATH_resultsFinal = \"D:\\CSIT\\SearchProject\\scrapy_doctorwho\\doctorwho\\RESULTS_FINAL\"\n",
    "PATH_txtOutput = PATH_resultsFinal + \"\\TXT_output\""
   ]
  },
  {
   "cell_type": "markdown",
   "metadata": {},
   "source": [
    "## Функция получения имен файлов:"
   ]
  },
  {
   "cell_type": "code",
   "execution_count": 90,
   "metadata": {},
   "outputs": [],
   "source": [
    "def get_catalog_tree_files(catalog_path):\n",
    "    # хранит абсолютные пути до файлов\n",
    "    paths_to_files = []\n",
    "    # обходит заданный калатог\n",
    "    for address, _, files in os.walk(catalog_path):\n",
    "        for name in files:\n",
    "            paths_to_files.append(os.path.join(address, name))\n",
    "    return paths_to_files"
   ]
  },
  {
   "cell_type": "markdown",
   "metadata": {},
   "source": [
    "Получаем массив со списком файлов"
   ]
  },
  {
   "cell_type": "code",
   "execution_count": 91,
   "metadata": {},
   "outputs": [],
   "source": [
    "files_txt_output = get_catalog_tree_files(PATH_txtOutput)"
   ]
  },
  {
   "cell_type": "markdown",
   "metadata": {},
   "source": [
    "## Функция получения информации о докторах"
   ]
  },
  {
   "cell_type": "code",
   "execution_count": 92,
   "metadata": {},
   "outputs": [],
   "source": [
    "def findDoctor(body):\n",
    "    # вызод функции\n",
    "    result = \"\"\n",
    "    # список имен докторов\n",
    "    nums_doctor = [\"Первый\", \"Второй\", \"Третий\", \"Четвертый\", \n",
    "                   \"Пятый\", \"Шестой\", \"Седьмой\", \"Восьмой\", \"Военный\", \n",
    "                   \"Девятый\", \"Десятый\", \"Одиннадцатый\", \"Двенадцатый\", \"Тринадцатый\"]\n",
    "    # проверка доктора\n",
    "    for num in nums_doctor:\n",
    "        # формируем имя доктора\n",
    "        find_str = num + \" Доктор\"\n",
    "        # находим подстроку в теле файла\n",
    "        if find_str in body:\n",
    "            result += find_str + \" \"\n",
    "    return result"
   ]
  },
  {
   "cell_type": "markdown",
   "metadata": {},
   "source": [
    "Проверка функции:"
   ]
  },
  {
   "cell_type": "code",
   "execution_count": 93,
   "metadata": {},
   "outputs": [
    {
     "name": "stdout",
     "output_type": "stream",
     "text": [
      "Девятый Доктор Двенадцатый Доктор \n"
     ]
    }
   ],
   "source": [
    "test_body = \"Однажды Двенадцатый Доктор встретил Мастера в теле женщины, а Девятый Доктор не встречал\"\n",
    "res_test = findDoctor(test_body)\n",
    "print(res_test)"
   ]
  },
  {
   "cell_type": "markdown",
   "metadata": {},
   "source": [
    "## Функция получения спутников"
   ]
  },
  {
   "cell_type": "markdown",
   "metadata": {},
   "source": [
    "Загрузка списка спутников"
   ]
  },
  {
   "cell_type": "code",
   "execution_count": 94,
   "metadata": {},
   "outputs": [],
   "source": [
    "def getListFromFile(filename):\n",
    "    companion_list = []\n",
    "    with open(filename, \"r\", encoding=\"UTF8\") as file_in:\n",
    "        companion = file_in.readline()\n",
    "        while companion != \"\":\n",
    "            comp = companion[0:len(companion)-1]\n",
    "            companion_list.append(comp)\n",
    "            companion = file_in.readline()\n",
    "    return companion_list"
   ]
  },
  {
   "cell_type": "markdown",
   "metadata": {},
   "source": [
    "Функция получения спутников"
   ]
  },
  {
   "cell_type": "code",
   "execution_count": 95,
   "metadata": {},
   "outputs": [],
   "source": [
    "def findCompanions(body):\n",
    "    # вызод функции\n",
    "    result = \"\"\n",
    "    # список спутников\n",
    "    companion_list = getListFromFile(\"companions_list.txt\")\n",
    "    # проверка спутников\n",
    "    for comp in companion_list:\n",
    "        # находим подстроку в теле файла\n",
    "        if comp in body:\n",
    "            result += comp + \" \"\n",
    "    return result"
   ]
  },
  {
   "cell_type": "markdown",
   "metadata": {},
   "source": [
    "Проверка функции"
   ]
  },
  {
   "cell_type": "code",
   "execution_count": 96,
   "metadata": {},
   "outputs": [
    {
     "name": "stdout",
     "output_type": "stream",
     "text": [
      "Эми Понд Рори Уильямс \n"
     ]
    }
   ],
   "source": [
    "test_body = \"В последней серии были Одиннадцатый Доктор, Эми Понд и Рори Уильямс\"\n",
    "res = findCompanions(test_body)\n",
    "print(res)"
   ]
  },
  {
   "cell_type": "markdown",
   "metadata": {},
   "source": [
    "## Функция получения врагов Доктора"
   ]
  },
  {
   "cell_type": "code",
   "execution_count": 97,
   "metadata": {},
   "outputs": [],
   "source": [
    "def findEnemies(body):\n",
    "    # вызод функции\n",
    "    result = \"\"\n",
    "    # список спутников\n",
    "    enemies_list = getListFromFile(\"enemiesList.txt\")\n",
    "    # проверка спутников\n",
    "    for enemy in enemies_list:\n",
    "        # находим подстроку в теле файла\n",
    "        if enemy in body:\n",
    "            result += enemy + \" \"\n",
    "    return result"
   ]
  },
  {
   "cell_type": "markdown",
   "metadata": {},
   "source": [
    "Проверка функции"
   ]
  },
  {
   "cell_type": "code",
   "execution_count": 98,
   "metadata": {},
   "outputs": [
    {
     "name": "stdout",
     "output_type": "stream",
     "text": [
      "Далеки Киберлюди Сонтаранцы \n"
     ]
    }
   ],
   "source": [
    "test_body = \"Встретились как-то в баре Далеки, Киберлюди и Сонтаранцы\"\n",
    "res = findEnemies(test_body)\n",
    "print(res)"
   ]
  },
  {
   "cell_type": "markdown",
   "metadata": {},
   "source": [
    "## Составление CSV-файла"
   ]
  },
  {
   "cell_type": "code",
   "execution_count": 99,
   "metadata": {},
   "outputs": [],
   "source": [
    "result = []\n",
    "for file in files_txt_output:\n",
    "    with open(file, \"r\", encoding=\"UTF8\") as file_in:\n",
    "        file_body = file_in.read()\n",
    "        filename = file[len(PATH_txtOutput)+1:]\n",
    "        doctor = findDoctor(file_body).strip()\n",
    "        companions = findCompanions(file_body).strip()\n",
    "        enemies = findEnemies(file_body).strip()\n",
    "        temp = []\n",
    "        temp.append(filename)\n",
    "        temp.append(doctor)\n",
    "        temp.append(companions)\n",
    "        temp.append(enemies)\n",
    "        result.append(temp)"
   ]
  },
  {
   "cell_type": "code",
   "execution_count": 100,
   "metadata": {},
   "outputs": [
    {
     "data": {
      "text/html": [
       "<div>\n",
       "<style scoped>\n",
       "    .dataframe tbody tr th:only-of-type {\n",
       "        vertical-align: middle;\n",
       "    }\n",
       "\n",
       "    .dataframe tbody tr th {\n",
       "        vertical-align: top;\n",
       "    }\n",
       "\n",
       "    .dataframe thead th {\n",
       "        text-align: right;\n",
       "    }\n",
       "</style>\n",
       "<table border=\"1\" class=\"dataframe\">\n",
       "  <thead>\n",
       "    <tr style=\"text-align: right;\">\n",
       "      <th></th>\n",
       "      <th>0</th>\n",
       "      <th>1</th>\n",
       "      <th>2</th>\n",
       "      <th>3</th>\n",
       "    </tr>\n",
       "  </thead>\n",
       "  <tbody>\n",
       "    <tr>\n",
       "      <th>0</th>\n",
       "      <td>(Почти) Пять Докторов</td>\n",
       "      <td></td>\n",
       "      <td></td>\n",
       "      <td></td>\n",
       "    </tr>\n",
       "    <tr>\n",
       "      <th>1</th>\n",
       "      <td>1 сезон (1963-1964).txt</td>\n",
       "      <td>Первый Доктор</td>\n",
       "      <td>Барбара Райт</td>\n",
       "      <td></td>\n",
       "    </tr>\n",
       "    <tr>\n",
       "      <th>2</th>\n",
       "      <td>1 сезон (2005).txt</td>\n",
       "      <td>Девятый Доктор</td>\n",
       "      <td>Роза Тайлер Адам Митчелл Микки Смит Джек Харкнесс</td>\n",
       "      <td>Адам Митчелл</td>\n",
       "    </tr>\n",
       "    <tr>\n",
       "      <th>3</th>\n",
       "      <td>10 сезон (1972-1973).txt</td>\n",
       "      <td>Третий Доктор</td>\n",
       "      <td>Джо Грант</td>\n",
       "      <td>Мастер</td>\n",
       "    </tr>\n",
       "    <tr>\n",
       "      <th>4</th>\n",
       "      <td>10 сезон (2017).txt</td>\n",
       "      <td>Двенадцатый Доктор</td>\n",
       "      <td>Нардол Билл Поттс</td>\n",
       "      <td></td>\n",
       "    </tr>\n",
       "    <tr>\n",
       "      <th>5</th>\n",
       "      <td>11 сезон (1973-1974).txt</td>\n",
       "      <td>Третий Доктор</td>\n",
       "      <td>Сара Джейн Смит</td>\n",
       "      <td></td>\n",
       "    </tr>\n",
       "    <tr>\n",
       "      <th>6</th>\n",
       "      <td>11 сезон (2018).txt</td>\n",
       "      <td>Тринадцатый Доктор</td>\n",
       "      <td></td>\n",
       "      <td></td>\n",
       "    </tr>\n",
       "    <tr>\n",
       "      <th>7</th>\n",
       "      <td>12 сезон (1974-1975).txt</td>\n",
       "      <td></td>\n",
       "      <td>Гарри Салливан Сара Джейн Смит</td>\n",
       "      <td>Даврос</td>\n",
       "    </tr>\n",
       "    <tr>\n",
       "      <th>8</th>\n",
       "      <td>13 сезон (1975-1976).txt</td>\n",
       "      <td></td>\n",
       "      <td>Гарри Салливан Сара Джейн Смит</td>\n",
       "      <td></td>\n",
       "    </tr>\n",
       "    <tr>\n",
       "      <th>9</th>\n",
       "      <td>13 сезон (2021-2022).txt</td>\n",
       "      <td>Тринадцатый Доктор</td>\n",
       "      <td>Дэн Льюис</td>\n",
       "      <td></td>\n",
       "    </tr>\n",
       "  </tbody>\n",
       "</table>\n",
       "</div>"
      ],
      "text/plain": [
       "                          0                   1  \\\n",
       "0     (Почти) Пять Докторов                       \n",
       "1   1 сезон (1963-1964).txt       Первый Доктор   \n",
       "2        1 сезон (2005).txt      Девятый Доктор   \n",
       "3  10 сезон (1972-1973).txt       Третий Доктор   \n",
       "4       10 сезон (2017).txt  Двенадцатый Доктор   \n",
       "5  11 сезон (1973-1974).txt       Третий Доктор   \n",
       "6       11 сезон (2018).txt  Тринадцатый Доктор   \n",
       "7  12 сезон (1974-1975).txt                       \n",
       "8  13 сезон (1975-1976).txt                       \n",
       "9  13 сезон (2021-2022).txt  Тринадцатый Доктор   \n",
       "\n",
       "                                                   2             3  \n",
       "0                                                                   \n",
       "1                                       Барбара Райт                \n",
       "2  Роза Тайлер Адам Митчелл Микки Смит Джек Харкнесс  Адам Митчелл  \n",
       "3                                          Джо Грант        Мастер  \n",
       "4                                  Нардол Билл Поттс                \n",
       "5                                    Сара Джейн Смит                \n",
       "6                                                                   \n",
       "7                     Гарри Салливан Сара Джейн Смит        Даврос  \n",
       "8                     Гарри Салливан Сара Джейн Смит                \n",
       "9                                          Дэн Льюис                "
      ]
     },
     "execution_count": 100,
     "metadata": {},
     "output_type": "execute_result"
    }
   ],
   "source": [
    "df = pd.DataFrame(result)\n",
    "df.head(10)"
   ]
  },
  {
   "cell_type": "code",
   "execution_count": 101,
   "metadata": {},
   "outputs": [],
   "source": [
    "df.to_csv(\"res.csv\", index=False)"
   ]
  }
 ],
 "metadata": {
  "kernelspec": {
   "display_name": "Python 3.10.8 64-bit (microsoft store)",
   "language": "python",
   "name": "python3"
  },
  "language_info": {
   "codemirror_mode": {
    "name": "ipython",
    "version": 3
   },
   "file_extension": ".py",
   "mimetype": "text/x-python",
   "name": "python",
   "nbconvert_exporter": "python",
   "pygments_lexer": "ipython3",
   "version": "3.10.8"
  },
  "orig_nbformat": 4,
  "vscode": {
   "interpreter": {
    "hash": "ddb06d25227ab28213b0084ad2ede9302ee7814147f1e6f5725b34343d1374f8"
   }
  }
 },
 "nbformat": 4,
 "nbformat_minor": 2
}
